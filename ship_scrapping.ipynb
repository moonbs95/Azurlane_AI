{
 "cells": [
  {
   "cell_type": "code",
   "execution_count": 2,
   "metadata": {},
   "outputs": [],
   "source": [
    "# 필요 패키지 import\n",
    "import numpy as np\n",
    "import pandas as pd\n",
    "import requests\n",
    "from bs4 import BeautifulSoup as bs"
   ]
  },
  {
   "cell_type": "code",
   "execution_count": 3,
   "metadata": {},
   "outputs": [],
   "source": [
    "# 시간적 여유를 두고 request하기 위한 time 패키지\n",
    "import time\n",
    "from random import random"
   ]
  },
  {
   "cell_type": "code",
   "execution_count": 4,
   "metadata": {},
   "outputs": [],
   "source": [
    "# url 구분\n",
    "url_root=\"https://azurlane.koumakan.jp/wiki/\"\n",
    "url_stats=\"List_of_Ships_by_Stats\"\n",
    "url_equip=\"List_of_Ships_by_Weapon_Efficiency\"\n",
    "url_ACV=\"List_of_Ships_by_Airspace_Control_Value\""
   ]
  },
  {
   "cell_type": "code",
   "execution_count": 5,
   "metadata": {},
   "outputs": [],
   "source": [
    "# 레벨 별 세분화\n",
    "level=[\"Level 100\", \"Level 120\", \"Level 125\"]\n",
    "\n",
    "# 함종 별 세분화(stats 한정)\n",
    "type_stats=[\"DD\", \"CL\", \"CA\", \"BB\", \"CV\", \"SS\", \"AR\", \"IX\"]"
   ]
  },
  {
   "cell_type": "code",
   "execution_count": 6,
   "metadata": {},
   "outputs": [],
   "source": [
    "# user-agent\n",
    "header={\"User-Agent\": \"Mozilla/5.0 (Windows NT 10.0; Win64; x64) AppleWebKit/537.36 (KHTML, like Gecko) Chrome/127.0.0.0 Safari/537.36\"}\n",
    "\n",
    "# url 출력 확인\n",
    "# print(url_root+url_stats)"
   ]
  },
  {
   "cell_type": "code",
   "execution_count": 7,
   "metadata": {},
   "outputs": [
    {
     "name": "stdout",
     "output_type": "stream",
     "text": [
      "200\n"
     ]
    }
   ],
   "source": [
    "# stats response 저장\n",
    "r_stats=requests.get(url_root+url_stats, headers=header)\n",
    "print(r_stats.status_code)\n",
    "r_stats_text=bs(r_stats.text, 'html.parser')"
   ]
  },
  {
   "cell_type": "code",
   "execution_count": 8,
   "metadata": {},
   "outputs": [
    {
     "name": "stdout",
     "output_type": "stream",
     "text": [
      "Casablanca\n"
     ]
    }
   ],
   "source": [
    "\n",
    "df_stats=pd.DataFrame(columns=[\"ID\", \"Name\", \"Rarity\", \"Nation\", \"Type\", \"Luck\", \"ArmorType\", \"Speed\", \"Health\", \"Firepower\", \"AntiAir\", \"Torpedo\", \"Evasion\", \"Aviation\", \"OilConsumption\", \"Reload\", \"AntiSubmarine\", \"Oxygen\", \"Ammo\", \"Accuracy\"])\n",
    "ship_stats=[]\n",
    "# response 변수 지정\n",
    "a_stats=r_stats_text.find_all(\"article\", attrs={'data-title': level[0]})\n",
    "trs_stats=a_stats[4].find_all(\"tr\") # 0번은 css, 1번부터가 함선 내용\n",
    "tds_stats=trs_stats[46].find_all(\"td\")\n",
    "\n",
    "\"\"\"\n",
    "tds_stats에 저장되는 순서\n",
    "0: \"ID\"\n",
    "1: \"Name\"\n",
    "2: \"Rarity\"\n",
    "3: \"Nation\"\n",
    "4: \"Type\"\n",
    "5: \"Luck\"\n",
    "6: \"ArmorType\"\n",
    "7: \"Speed\"\n",
    "8: \"Health\"\n",
    "9: \"Firepower\"\n",
    "10: \"AntiAir\"\n",
    "11: \"Torpedo\"\n",
    "12: \"Evasion\"\n",
    "13: \"Aviation\"\n",
    "14: \"OilConsumption\"\n",
    "15: \"Reload\"\n",
    "16: \"AntiSubmarine\"\n",
    "17: \"Oxygen\"\n",
    "18: \"Ammo\"\n",
    "19: \"Accuracy\"\n",
    "\"\"\"\n",
    "\n",
    "\n",
    "# response 확인\n",
    "# print(a_stats[4])\n",
    "print(tds_stats[1].text)\n",
    "#for td_stats in tds_stats:\n",
    "#    ship_stats.append(td_stats.text)\n",
    "#df_stats.loc[1]=ship_stats\n",
    "#df_stats"
   ]
  },
  {
   "cell_type": "code",
   "execution_count": 9,
   "metadata": {},
   "outputs": [],
   "source": [
    "# 레벨 별 stat csv 작성 코드\n",
    "for lv in level:\n",
    "    data=[]\n",
    "    a_stats=r_stats_text.find_all(\"article\", attrs={'data-title': lv})\n",
    "    for i in range(len(type_stats)):\n",
    "        trs_stats=a_stats[i].find_all(\"tr\")\n",
    "        for j in range(len(trs_stats)-1):\n",
    "            ship_stats=[]\n",
    "            tds_stats=trs_stats[j+1].find_all(\"td\")\n",
    "            for td_stats in tds_stats:\n",
    "                ship_stats.append(td_stats.text)\n",
    "            data.append(ship_stats)\n",
    "    df_stats=pd.DataFrame(data, columns=[\"ID\", \"Name\", \"Rarity\", \"Nation\", \"Type\", \"Luck\", \"ArmorType\", \"Speed\", \"Health\", \"Firepower\", \"AntiAir\", \"Torpedo\", \"Evasion\", \"Aviation\", \"OilConsumption\", \"Reload\", \"AntiSubmarine\", \"Oxygen\", \"Ammo\", \"Accuracy\"])\n",
    "    df_stats=df_stats.sort_values('ID', axis=0)\n",
    "    df_stats=df_stats.set_index('ID')\n",
    "    title=\"C:\\\\Users\\\\mbs95\\\\Desktop\\\\AI\\\\Azurlane_AI\\\\csv\\\\Stats \"+lv+\".csv\"\n",
    "    df_stats.to_csv(title, encoding=\"utf-8-sig\") # utf-8-sig: 특수문자 깨짐 방지\n"
   ]
  },
  {
   "cell_type": "code",
   "execution_count": null,
   "metadata": {},
   "outputs": [],
   "source": []
  }
 ],
 "metadata": {
  "kernelspec": {
   "display_name": "Python 3",
   "language": "python",
   "name": "python3"
  },
  "language_info": {
   "codemirror_mode": {
    "name": "ipython",
    "version": 3
   },
   "file_extension": ".py",
   "mimetype": "text/x-python",
   "name": "python",
   "nbconvert_exporter": "python",
   "pygments_lexer": "ipython3",
   "version": "3.10.6"
  }
 },
 "nbformat": 4,
 "nbformat_minor": 2
}
