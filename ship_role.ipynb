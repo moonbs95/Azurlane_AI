{
 "cells": [
  {
   "cell_type": "markdown",
   "metadata": {},
   "source": [
    "# 데이터 전처리 및 병합"
   ]
  },
  {
   "cell_type": "code",
   "execution_count": 1,
   "metadata": {},
   "outputs": [
    {
     "name": "stderr",
     "output_type": "stream",
     "text": [
      "C:\\Users\\mbs95\\AppData\\Roaming\\Python\\Python310\\site-packages\\tqdm\\auto.py:21: TqdmWarning: IProgress not found. Please update jupyter and ipywidgets. See https://ipywidgets.readthedocs.io/en/stable/user_install.html\n",
      "  from .autonotebook import tqdm as notebook_tqdm\n"
     ]
    }
   ],
   "source": [
    "# 라이브러리\n",
    "import pandas as pd\n",
    "import numpy as np\n",
    "import json\n",
    "from collections import defaultdict\n",
    "from transformers import BertTokenizer, BertModel\n",
    "import torch\n",
    "from tqdm import tqdm"
   ]
  },
  {
   "cell_type": "code",
   "execution_count": 2,
   "metadata": {},
   "outputs": [],
   "source": [
    "# 1. 파일 불러오기\n",
    "stat_df = pd.read_csv(\"./dataset/csv/level_125_statOnly.csv\")\n",
    "\n",
    "with open(\"./dataset/skill_ships.json\", \"r\", encoding=\"utf-8\") as f:\n",
    "    skill_data = json.load(f)\n",
    "\n",
    "with open(\"./dataset/roles_ships.json\", \"r\", encoding=\"utf-8\") as f:\n",
    "    roles_data = json.load(f)"
   ]
  },
  {
   "cell_type": "code",
   "execution_count": 3,
   "metadata": {},
   "outputs": [],
   "source": [
    "# 2. skill_ships.json → 캐릭터 이름 기준으로 스킬 설명 모으기\n",
    "ship_skills = defaultdict(list)\n",
    "for skill in skill_data:\n",
    "    description = skill.get(\"Description\", \"\")\n",
    "    for ship in skill.get(\"Ships\", []):\n",
    "        ship_skills[ship.strip()].append(description)\n",
    "\n",
    "# 캐릭터별 스킬 설명을 하나의 텍스트로 결합\n",
    "ship_skill_text = {ship: \" \".join(descs) for ship, descs in ship_skills.items()}\n",
    "skill_df = pd.DataFrame(list(ship_skill_text.items()), columns=[\"Name\", \"Skill_Description\"])"
   ]
  },
  {
   "cell_type": "code",
   "execution_count": 4,
   "metadata": {},
   "outputs": [],
   "source": [
    "# 3. roles_ships.json → 캐릭터 이름과 전/후열 구분, Role 추출\n",
    "roles_df = pd.DataFrame(roles_data)\n",
    "roles_df = roles_df[[\"Name\", \"Fleet\", \"Roles\"]].copy()\n",
    "roles_df[\"Role\"] = roles_df[\"Roles\"].apply(lambda x: x[0] if isinstance(x, list) and len(x) > 0 else None)\n",
    "roles_df.drop(columns=[\"Roles\"], inplace=True)"
   ]
  },
  {
   "cell_type": "code",
   "execution_count": 5,
   "metadata": {},
   "outputs": [],
   "source": [
    "# 3-1. statonly.csv-> 영향을 미치지 않는 스테이터스 제외\n",
    "stat_df.drop(columns=[\"Nation\"], inplace=True)\n",
    "stat_df.drop(columns=[\"Type\"], inplace=True)\n",
    "stat_df.drop(columns=[\"Luck\"], inplace=True)\n",
    "stat_df.drop(columns=[\"ArmorType\"], inplace=True)"
   ]
  },
  {
   "cell_type": "code",
   "execution_count": 6,
   "metadata": {},
   "outputs": [],
   "source": [
    "# 4. 데이터 정리: 이름 공백 제거\n",
    "stat_df[\"Name\"] = stat_df[\"Name\"].str.strip()\n",
    "skill_df[\"Name\"] = skill_df[\"Name\"].str.strip()\n",
    "roles_df[\"Name\"] = roles_df[\"Name\"].str.strip()"
   ]
  },
  {
   "cell_type": "code",
   "execution_count": 7,
   "metadata": {},
   "outputs": [],
   "source": [
    "# 5. 데이터 병합 및 후처리\n",
    "merged_df = stat_df.merge(skill_df, on=\"Name\", how=\"inner\")\n",
    "merged_df = merged_df.merge(roles_df, on=\"Name\", how=\"inner\")\n",
    "merged_df = merged_df.drop(columns=\"Unnamed: 0\")\n",
    "# print(merged_df)"
   ]
  },
  {
   "cell_type": "code",
   "execution_count": 8,
   "metadata": {},
   "outputs": [],
   "source": [
    "# 병합 데이터 파일 백업\n",
    "title=f\"./dataset/dataset_ships.json\"\n",
    "merged_df.to_csv(title, encoding=\"utf-8-sig\") # utf-8-sig: 특수문자 깨짐 방지"
   ]
  },
  {
   "cell_type": "markdown",
   "metadata": {},
   "source": [
    "# 스킬 설명 벡터화 및 수치형 데이터와의 결합"
   ]
  },
  {
   "cell_type": "code",
   "execution_count": 9,
   "metadata": {},
   "outputs": [
    {
     "name": "stderr",
     "output_type": "stream",
     "text": [
      "BERT Embedding: 100%|██████████| 19/19 [00:15<00:00,  1.20it/s]\n"
     ]
    }
   ],
   "source": [
    "# 5. BERT 임베딩 (스킬 설명)\n",
    "tokenizer = BertTokenizer.from_pretrained(\"bert-base-multilingual-cased\")\n",
    "bert_model = BertModel.from_pretrained(\"bert-base-multilingual-cased\")\n",
    "bert_model.eval()\n",
    "\n",
    "def get_bert_embeddings(text_list, batch_size=16):\n",
    "    embeddings = []\n",
    "    for i in tqdm(range(0, len(text_list), batch_size), desc=\"BERT Embedding\"):\n",
    "        batch = text_list[i:i+batch_size]\n",
    "        encoded = tokenizer(batch, padding=True, truncation=True, return_tensors=\"pt\", max_length=128)\n",
    "        with torch.no_grad():\n",
    "            output = bert_model(**encoded)\n",
    "        cls_embeddings = output.last_hidden_state[:, 0, :].numpy()\n",
    "        embeddings.append(cls_embeddings)\n",
    "    return np.vstack(embeddings)\n",
    "\n",
    "descriptions = merged_df[\"Skill_Description\"].fillna(\"\").tolist()\n",
    "bert_embeddings = get_bert_embeddings(descriptions)"
   ]
  },
  {
   "cell_type": "code",
   "execution_count": 10,
   "metadata": {},
   "outputs": [],
   "source": [
    "# 6. 수치형 데이터 결합\n",
    "numeric_features = merged_df.select_dtypes(include=[np.number])\n",
    "numeric_array = numeric_features.drop(columns=[\"Unnamed: 0\"], errors=\"ignore\").to_numpy()\n",
    "X_combined = np.hstack([bert_embeddings, numeric_array])\n",
    "y_labels = merged_df[\"Role\"].values"
   ]
  },
  {
   "cell_type": "code",
   "execution_count": 11,
   "metadata": {},
   "outputs": [
    {
     "name": "stdout",
     "output_type": "stream",
     "text": [
      "✅ 임베딩 완료!\n",
      "🔸 입력 벡터 형태: (292, 777)\n",
      "🔸 라벨 개수: 292\n",
      "🔸 고유 Role 목록: ['DamageCV' 'DamageDealer' 'Flagship' 'Off-Flag' 'Support' 'Tank']\n"
     ]
    }
   ],
   "source": [
    "# 7. 결과 확인\n",
    "print(\"✅ 임베딩 완료!\")\n",
    "print(\"🔸 입력 벡터 형태:\", X_combined.shape)\n",
    "print(\"🔸 라벨 개수:\", len(y_labels))\n",
    "print(\"🔸 고유 Role 목록:\", np.unique(y_labels))"
   ]
  },
  {
   "cell_type": "markdown",
   "metadata": {},
   "source": [
    "# 모델 학습"
   ]
  },
  {
   "cell_type": "markdown",
   "metadata": {},
   "source": [
    "## 문제 정의 요약\n",
    "입력: 텍스트(BERT 임베딩) + 수치형 능력치\n",
    "\n",
    "출력: Role (Support, Flagship, Off-Flag, DamageCV 등 → 다중 클래스 분류)\n",
    "\n",
    "데이터 크기: 수백 개 단위 (추정)\n",
    "\n",
    "특성 차원: BERT(768차원) + 수치형 수십 개 = 약 800~850차원\n",
    "\n",
    "클래스 불균형 있음"
   ]
  },
  {
   "cell_type": "markdown",
   "metadata": {},
   "source": [
    "## 추천 분류 모델 Top 3"
   ]
  },
  {
   "cell_type": "markdown",
   "metadata": {},
   "source": [
    "1. LightGBM\n",
    "✅ 장점: 적은 데이터에도 잘 작동, 학습 속도 빠름, 특성 중요도 파악 가능\n",
    "\n",
    "⚠️ 단점: 고차원 희소 특성에는 성능이 살짝 떨어질 수 있음\n",
    "\n",
    "💡 추천: 가볍고 빠른 실험, 해석도 함께 하고 싶을 때\n",
    "\n",
    "2. MLPClassifier (다층 퍼셉트론, PyTorch or scikit-learn)\n",
    "✅ 장점: BERT 임베딩처럼 연속 벡터 특성에 잘 맞음\n",
    "\n",
    "⚠️ 단점: 하이퍼파라미터 튜닝 필요, 과적합 조심\n",
    "\n",
    "💡 추천: 종단 간 딥러닝 방식을 원할 때\n",
    "\n",
    "3. Logistic Regression (softmax)\n",
    "✅ 장점: 가장 기본적인 선형 모델, 빠름\n",
    "\n",
    "⚠️ 단점: 비선형 문제에서 성능 낮음\n",
    "\n",
    "💡 추천: 기준선(Base line) 설정용"
   ]
  },
  {
   "cell_type": "markdown",
   "metadata": {},
   "source": [
    "## 결론\n",
    "MLPClassifier (PyTorch 기반)\n",
    "이유: BERT 임베딩이 고차원 연속 벡터이므로, 신경망 기반 분류기가 가장 잘 맞습니다."
   ]
  },
  {
   "cell_type": "code",
   "execution_count": 12,
   "metadata": {},
   "outputs": [
    {
     "name": "stdout",
     "output_type": "stream",
     "text": [
      "1.6.1\n"
     ]
    }
   ],
   "source": [
    "import sklearn\n",
    "print(sklearn.__version__)"
   ]
  },
  {
   "cell_type": "code",
   "execution_count": 12,
   "metadata": {},
   "outputs": [],
   "source": [
    "# 라이브러리\n",
    "import torch\n",
    "import torch.nn as nn\n",
    "import torch.optim as optim\n",
    "from sklearn.preprocessing import LabelEncoder\n",
    "from sklearn.model_selection import train_test_split\n",
    "from sklearn.metrics import classification_report"
   ]
  },
  {
   "cell_type": "code",
   "execution_count": 13,
   "metadata": {},
   "outputs": [],
   "source": [
    "# 1. 라벨 인코딩\n",
    "label_encoder = LabelEncoder()\n",
    "y_encoded = label_encoder.fit_transform(y_labels)\n",
    "num_classes = len(label_encoder.classes_)"
   ]
  },
  {
   "cell_type": "code",
   "execution_count": 14,
   "metadata": {},
   "outputs": [],
   "source": [
    "# 2. 데이터셋 분할\n",
    "X_train, X_test, y_train, y_test = train_test_split(\n",
    "    X_combined, y_encoded, test_size=0.2, random_state=42, stratify=y_encoded\n",
    ")"
   ]
  },
  {
   "cell_type": "code",
   "execution_count": 15,
   "metadata": {},
   "outputs": [],
   "source": [
    "# 3. 텐서 변환\n",
    "X_train_tensor = torch.tensor(X_train, dtype=torch.float32)\n",
    "y_train_tensor = torch.tensor(y_train, dtype=torch.long)\n",
    "X_test_tensor = torch.tensor(X_test, dtype=torch.float32)\n",
    "y_test_tensor = torch.tensor(y_test, dtype=torch.long)"
   ]
  },
  {
   "cell_type": "code",
   "execution_count": 16,
   "metadata": {},
   "outputs": [],
   "source": [
    "# 4. 모델 정의 (MLP)\n",
    "class MLPClassifier(nn.Module):\n",
    "    def __init__(self, input_dim, hidden_dim=512, output_dim=num_classes):\n",
    "        super().__init__()\n",
    "        self.model = nn.Sequential(\n",
    "            nn.Linear(input_dim, hidden_dim),\n",
    "            nn.ReLU(),\n",
    "            nn.Dropout(0.3),\n",
    "            nn.Linear(hidden_dim, hidden_dim // 2),\n",
    "            nn.ReLU(),\n",
    "            nn.Dropout(0.3),\n",
    "            nn.Linear(hidden_dim // 2, output_dim)\n",
    "        )\n",
    "\n",
    "    def forward(self, x):\n",
    "        return self.model(x)\n",
    "\n",
    "model = MLPClassifier(X_train.shape[1])\n",
    "device = torch.device(\"cuda\" if torch.cuda.is_available() else \"cpu\")\n",
    "model = model.to(device)"
   ]
  },
  {
   "cell_type": "code",
   "execution_count": 17,
   "metadata": {},
   "outputs": [],
   "source": [
    "# 5. 학습 준비\n",
    "criterion = nn.CrossEntropyLoss()\n",
    "optimizer = optim.Adam(model.parameters(), lr=1e-3)\n",
    "epochs = 20\n",
    "batch_size = 32"
   ]
  },
  {
   "cell_type": "code",
   "execution_count": 18,
   "metadata": {},
   "outputs": [
    {
     "name": "stdout",
     "output_type": "stream",
     "text": [
      "Epoch 1/20 - Loss: 45.6779\n",
      "Epoch 2/20 - Loss: 21.4517\n",
      "Epoch 3/20 - Loss: 9.3222\n",
      "Epoch 4/20 - Loss: 6.8810\n",
      "Epoch 5/20 - Loss: 3.8229\n",
      "Epoch 6/20 - Loss: 2.5768\n",
      "Epoch 7/20 - Loss: 1.8796\n",
      "Epoch 8/20 - Loss: 1.7521\n",
      "Epoch 9/20 - Loss: 1.7445\n",
      "Epoch 10/20 - Loss: 1.7438\n",
      "Epoch 11/20 - Loss: 1.7187\n",
      "Epoch 12/20 - Loss: 1.7720\n",
      "Epoch 13/20 - Loss: 1.5471\n",
      "Epoch 14/20 - Loss: 1.6734\n",
      "Epoch 15/20 - Loss: 1.5961\n",
      "Epoch 16/20 - Loss: 1.4744\n",
      "Epoch 17/20 - Loss: 1.6027\n",
      "Epoch 18/20 - Loss: 1.5717\n",
      "Epoch 19/20 - Loss: 1.4372\n",
      "Epoch 20/20 - Loss: 1.5786\n"
     ]
    }
   ],
   "source": [
    "# 6. 학습 루프\n",
    "for epoch in range(epochs):\n",
    "    model.train()\n",
    "    perm = torch.randperm(X_train_tensor.size(0))\n",
    "    sum_loss = 0\n",
    "    for i in range(0, X_train_tensor.size(0), batch_size):\n",
    "        idx = perm[i:i+batch_size]\n",
    "        x_batch = X_train_tensor[idx].to(device)\n",
    "        y_batch = y_train_tensor[idx].to(device)\n",
    "\n",
    "        optimizer.zero_grad()\n",
    "        output = model(x_batch)\n",
    "        loss = criterion(output, y_batch)\n",
    "        loss.backward()\n",
    "        optimizer.step()\n",
    "        sum_loss += loss.item()\n",
    "\n",
    "    avg_loss = sum_loss / (X_train_tensor.size(0) // batch_size)\n",
    "    print(f\"Epoch {epoch+1}/{epochs} - Loss: {avg_loss:.4f}\")"
   ]
  },
  {
   "cell_type": "code",
   "execution_count": 19,
   "metadata": {},
   "outputs": [
    {
     "name": "stdout",
     "output_type": "stream",
     "text": [
      "\n",
      "📊 분류 리포트:\n",
      "              precision    recall  f1-score   support\n",
      "\n",
      "    DamageCV       0.73      1.00      0.84         8\n",
      "DamageDealer       0.64      0.89      0.74        18\n",
      "    Flagship       0.00      0.00      0.00         5\n",
      "    Off-Flag       0.41      1.00      0.58         9\n",
      "     Support       1.00      0.10      0.18        10\n",
      "        Tank       0.00      0.00      0.00         9\n",
      "\n",
      "    accuracy                           0.58        59\n",
      "   macro avg       0.46      0.50      0.39        59\n",
      "weighted avg       0.53      0.58      0.46        59\n",
      "\n"
     ]
    },
    {
     "name": "stderr",
     "output_type": "stream",
     "text": [
      "C:\\Users\\mbs95\\AppData\\Roaming\\Python\\Python310\\site-packages\\sklearn\\metrics\\_classification.py:1565: UndefinedMetricWarning: Precision is ill-defined and being set to 0.0 in labels with no predicted samples. Use `zero_division` parameter to control this behavior.\n",
      "  _warn_prf(average, modifier, f\"{metric.capitalize()} is\", len(result))\n",
      "C:\\Users\\mbs95\\AppData\\Roaming\\Python\\Python310\\site-packages\\sklearn\\metrics\\_classification.py:1565: UndefinedMetricWarning: Precision is ill-defined and being set to 0.0 in labels with no predicted samples. Use `zero_division` parameter to control this behavior.\n",
      "  _warn_prf(average, modifier, f\"{metric.capitalize()} is\", len(result))\n",
      "C:\\Users\\mbs95\\AppData\\Roaming\\Python\\Python310\\site-packages\\sklearn\\metrics\\_classification.py:1565: UndefinedMetricWarning: Precision is ill-defined and being set to 0.0 in labels with no predicted samples. Use `zero_division` parameter to control this behavior.\n",
      "  _warn_prf(average, modifier, f\"{metric.capitalize()} is\", len(result))\n"
     ]
    }
   ],
   "source": [
    "# 7. 평가\n",
    "model.eval()\n",
    "with torch.no_grad():\n",
    "    y_pred = model(X_test_tensor.to(device))\n",
    "    y_pred_labels = torch.argmax(y_pred, dim=1).cpu().numpy()\n",
    "    y_true_labels = y_test_tensor.numpy()\n",
    "\n",
    "print(\"\\n📊 분류 리포트:\")\n",
    "print(classification_report(y_true_labels, y_pred_labels, target_names=label_encoder.classes_))\n"
   ]
  },
  {
   "cell_type": "markdown",
   "metadata": {},
   "source": [
    "# 모델 수정(Modification)"
   ]
  },
  {
   "cell_type": "markdown",
   "metadata": {},
   "source": [
    "## confusion matrix"
   ]
  },
  {
   "cell_type": "code",
   "execution_count": 20,
   "metadata": {},
   "outputs": [
    {
     "data": {
      "image/png": "[encoded data removed]",
      "text/plain": [
       "<Figure size 800x600 with 2 Axes>"
      ]
     },
     "metadata": {},
     "output_type": "display_data"
    }
   ],
   "source": [
    "import matplotlib.pyplot as plt\n",
    "import seaborn as sns\n",
    "from sklearn.metrics import confusion_matrix\n",
    "\n",
    "# 1. 혼동 행렬 계산\n",
    "cm = confusion_matrix(y_true_labels, y_pred_labels)\n",
    "\n",
    "# 2. 라벨 이름 (클래스 이름)\n",
    "class_names = label_encoder.classes_\n",
    "\n",
    "# 3. 시각화\n",
    "plt.figure(figsize=(8, 6))\n",
    "sns.heatmap(cm, annot=True, fmt=\"d\", cmap=\"Blues\", \n",
    "            xticklabels=class_names, yticklabels=class_names)\n",
    "\n",
    "plt.xlabel(\"Predicted\")\n",
    "plt.ylabel(\"True\")\n",
    "plt.title(\"Confusion Matrix - Classified Roles\")\n",
    "plt.tight_layout()\n",
    "plt.show()\n"
   ]
  },
  {
   "cell_type": "markdown",
   "metadata": {},
   "source": [
    "## 예측 결과 확인"
   ]
  },
  {
   "cell_type": "code",
   "execution_count": 23,
   "metadata": {},
   "outputs": [
    {
     "name": "stdout",
     "output_type": "stream",
     "text": [
      "\n",
      "❌ 잘못된 예측만:\n",
      "                       Name     True Role Predicted Role\n",
      "0                    Napoli          Tank       Off-Flag\n",
      "2              Jeanne d'Arc       Support   DamageDealer\n",
      "3                  Cheshire          Tank   DamageDealer\n",
      "6                      Zara          Tank       Off-Flag\n",
      "8                    Nagato      Flagship       Off-Flag\n",
      "9   Kasumi (Venus Vacation)          Tank   DamageDealer\n",
      "12               Washington      Flagship       Off-Flag\n",
      "16                  Ryuuhou       Support       DamageCV\n",
      "22                 Yukikaze          Tank   DamageDealer\n",
      "23                  Kashino       Support       Off-Flag\n",
      "24             Akane Shinjo      Flagship       Off-Flag\n",
      "26                 Painlevé       Support       DamageCV\n",
      "27                Baltimore  DamageDealer       Off-Flag\n",
      "28                     Roon          Tank       Off-Flag\n",
      "29                  Neptune          Tank   DamageDealer\n",
      "34           Stephen Potter       Support   DamageDealer\n",
      "39                   Aurora       Support   DamageDealer\n",
      "43                     Maya       Support   DamageDealer\n",
      "45                  Perseus       Support       DamageCV\n",
      "47                    Brest          Tank       Off-Flag\n",
      "48                   Honoka      Flagship       Off-Flag\n",
      "50           Northampton II  DamageDealer       Off-Flag\n",
      "55                  Gorizia          Tank       Off-Flag\n",
      "57                 Kazagumo       Support   DamageDealer\n",
      "58                 Bismarck      Flagship       Off-Flag\n"
     ]
    }
   ],
   "source": [
    "# 캐릭터 이름, 실제 역할, 예측 역할 확인용 테이블 만들기\n",
    "import pandas as pd\n",
    "\n",
    "# test 인덱스 추적용\n",
    "_, X_test_idx = train_test_split(\n",
    "    merged_df.reset_index(), test_size=0.2, random_state=42, stratify=y_encoded\n",
    ")\n",
    "\n",
    "# index 순서 복원\n",
    "X_test_idx = X_test_idx.reset_index(drop=True)\n",
    "\n",
    "# 예측 결과 매핑\n",
    "result_df = pd.DataFrame({\n",
    "    \"Name\": X_test_idx[\"Name\"],\n",
    "    \"True Role\": label_encoder.inverse_transform(y_true_labels),\n",
    "    \"Predicted Role\": label_encoder.inverse_transform(y_pred_labels)\n",
    "})\n",
    "\n",
    "# 잘못 예측된 것만 확인 (선택)\n",
    "mismatched = result_df[result_df[\"True Role\"] != result_df[\"Predicted Role\"]]\n",
    "\n",
    "# 전체 결과 보기\n",
    "# print(\"전체 예측 결과:\")\n",
    "# print(result_df)\n",
    "\n",
    "# 또는 잘못된 것만 보기\n",
    "print(\"\\n❌ 잘못된 예측만:\")\n",
    "print(mismatched)\n",
    "\n",
    "mismatched.to_json(\"model_prediction_fault.json\", orient=\"records\", force_ascii=False, indent=2)\n"
   ]
  },
  {
   "cell_type": "code",
   "execution_count": null,
   "metadata": {},
   "outputs": [],
   "source": []
  }
 ],
 "metadata": {
  "kernelspec": {
   "display_name": "Python 3",
   "language": "python",
   "name": "python3"
  },
  "language_info": {
   "codemirror_mode": {
    "name": "ipython",
    "version": 3
   },
   "file_extension": ".py",
   "mimetype": "text/x-python",
   "name": "python",
   "nbconvert_exporter": "python",
   "pygments_lexer": "ipython3",
   "version": "3.10.6"
  }
 },
 "nbformat": 4,
 "nbformat_minor": 2
}
