{
 "cells": [
  {
   "cell_type": "code",
   "execution_count": 1,
   "metadata": {},
   "outputs": [],
   "source": [
    "# 필요 패키지 import\n",
    "import numpy as np\n",
    "import pandas as pd\n",
    "import requests\n",
    "from bs4 import BeautifulSoup as bs\n",
    "\n",
    "# 시간적 여유를 두고 request하기 위한 time 패키지\n",
    "import time\n",
    "from random import random"
   ]
  },
  {
   "cell_type": "code",
   "execution_count": 2,
   "metadata": {},
   "outputs": [],
   "source": [
    "# url\n",
    "url=\"https://azurlane.koumakan.jp/wiki/Skills\"\n",
    "\n",
    "# url 출력 확인\n",
    "# print(url)"
   ]
  },
  {
   "cell_type": "code",
   "execution_count": 3,
   "metadata": {},
   "outputs": [
    {
     "name": "stdout",
     "output_type": "stream",
     "text": [
      "200\n"
     ]
    }
   ],
   "source": [
    "# user-agent\n",
    "header={\"User-Agent\": 'Mozilla/5.0 (Windows NT 10.0; Win64; x64) AppleWebKit/537.36 (KHTML, like Gecko) Chrome/134.0.0.0 Safari/537.36'}\n",
    "\n",
    "# skills response 저장\n",
    "r=requests.get(url, headers=header)\n",
    "print(r.status_code)\n",
    "r_text=bs(r.text, 'html.parser')"
   ]
  },
  {
   "cell_type": "code",
   "execution_count": 12,
   "metadata": {},
   "outputs": [],
   "source": [
    "list_id=[\"Offensive_Skills\", \"Defensive_Skills\", \"Support_Skills\", \"Defunct_Skills\"]\n",
    "\n",
    "target_span=r_text.find(\"span\", id=list_id[2])\n",
    "if target_span:\n",
    "    target_h3 = target_span.find_parent('h3')\n",
    "    if target_h3:\n",
    "        table = target_h3.find_next('table')\n",
    "\n",
    "        data_skills=[]\n",
    "        for row in table.find_all('tr'):\n",
    "            cells = [cell.get_text(strip=True) for cell in row.find_all(['td', 'th'])]\n",
    "            data_skills.append(cells)\n",
    "\n",
    "df_skills=pd.DataFrame(data_skills, columns=[\"Icon\", \"Name\", \"Description\", \"Ships\"])"
   ]
  },
  {
   "cell_type": "code",
   "execution_count": 13,
   "metadata": {},
   "outputs": [
    {
     "name": "stdout",
     "output_type": "stream",
     "text": [
      "2nd Torpedo Squadron\n"
     ]
    }
   ],
   "source": [
    "df_skills = df_skills.drop(index=0).reset_index(drop=True)\n",
    "print(df_skills[\"Name\"][0])"
   ]
  },
  {
   "cell_type": "code",
   "execution_count": 14,
   "metadata": {},
   "outputs": [],
   "source": [
    "df_skills=df_skills.drop(columns=\"Icon\")\n",
    "df_skills['Ships'] = df_skills['Ships'].apply(lambda x: [s.strip() for s in x.split(',')] if pd.notna(x) else [])\n",
    "# print(df_skills[\"Ships\"][714])\n",
    "df_skills[\"Tags\"]=\"Support\""
   ]
  },
  {
   "cell_type": "code",
   "execution_count": 15,
   "metadata": {},
   "outputs": [],
   "source": [
    "title=f\"./dataset/skill_support.json\"\n",
    "df_skills.to_json(title, orient='records', force_ascii=False, indent=2)"
   ]
  },
  {
   "cell_type": "code",
   "execution_count": null,
   "metadata": {},
   "outputs": [],
   "source": []
  }
 ],
 "metadata": {
  "kernelspec": {
   "display_name": "Python 3",
   "language": "python",
   "name": "python3"
  },
  "language_info": {
   "codemirror_mode": {
    "name": "ipython",
    "version": 3
   },
   "file_extension": ".py",
   "mimetype": "text/x-python",
   "name": "python",
   "nbconvert_exporter": "python",
   "pygments_lexer": "ipython3",
   "version": "3.10.6"
  }
 },
 "nbformat": 4,
 "nbformat_minor": 2
}
